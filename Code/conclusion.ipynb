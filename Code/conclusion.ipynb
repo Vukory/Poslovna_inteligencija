{
 "cells": [
  {
   "cell_type": "code",
   "execution_count": 1,
   "metadata": {},
   "outputs": [],
   "source": [
    "import pandas as pd\n",
    "from sklearn.preprocessing import MinMaxScaler\n",
    "\n",
    "# Load the final dataset with predictions\n",
    "data = pd.read_csv('merged_country_energy_predictions.csv')\n",
    "\n",
    "# Criteria columns for current and predicted data\n",
    "current_criteria_cols = [\n",
    "    'average_temperature', 'average_radiation', 'avg_CO2_emissions', \n",
    "    'avg_production_renewables', 'GDP', 'Population'\n",
    "]\n",
    "\n",
    "predicted_criteria_cols = [\n",
    "    'predicted_avg_temp', 'predicted_avg_radiation', \n",
    "    'predicted_avg_CO2_emissions', 'predicted_avg_production_renewables', \n",
    "    'predicted_GDP', 'predicted_Population'\n",
    "]"
   ]
  },
  {
   "cell_type": "code",
   "execution_count": 2,
   "metadata": {},
   "outputs": [],
   "source": [
    "# Normalize both current and predicted data\n",
    "scaler = MinMaxScaler()\n",
    "data[current_criteria_cols] = scaler.fit_transform(data[current_criteria_cols])\n",
    "data[predicted_criteria_cols] = scaler.fit_transform(data[predicted_criteria_cols])\n",
    "\n",
    "# Assign weights to each criterion for both current and future\n",
    "weights = {\n",
    "    # Current values\n",
    "    'average_temperature': 0.10,  # Current stable temperature\n",
    "    'average_radiation': 0.10,    # Current solar energy potential\n",
    "    'avg_CO2_emissions': -0.15,   # Current low emissions\n",
    "    'avg_production_renewables': 0.15,  # Current renewable energy\n",
    "    'GDP': 0.075,                 # Current economic stability\n",
    "    'Population': 0.075,          # Current workforce availability\n",
    "    \n",
    "    # Predicted values (next 10 years)\n",
    "    'predicted_avg_temp': 0.10,   # Future temperature stability\n",
    "    'predicted_avg_radiation': 0.10,   # Future solar energy potential\n",
    "    'predicted_avg_CO2_emissions': -0.15,  # Future low emissions\n",
    "    'predicted_avg_production_renewables': 0.15,  # Future renewable energy\n",
    "    'predicted_GDP': 0.075,           # Future economic stability\n",
    "    'predicted_Population': 0.075     # Future workforce availability\n",
    "}\n",
    "\n",
    "# Calculate the weighted sum for each country (both current and predicted values)\n",
    "data['Score'] = (\n",
    "    data['average_temperature'] * weights['average_temperature'] +\n",
    "    data['average_radiation'] * weights['average_radiation'] +\n",
    "    data['avg_CO2_emissions'] * weights['avg_CO2_emissions'] +\n",
    "    data['avg_production_renewables'] * weights['avg_production_renewables'] +\n",
    "    data['GDP'] * weights['GDP'] +\n",
    "    data['Population'] * weights['Population'] +\n",
    "    \n",
    "    # Predicted values\n",
    "    data['predicted_avg_temp'] * weights['predicted_avg_temp'] +\n",
    "    data['predicted_avg_radiation'] * weights['predicted_avg_radiation'] +\n",
    "    data['predicted_avg_CO2_emissions'] * weights['predicted_avg_CO2_emissions'] +\n",
    "    data['predicted_avg_production_renewables'] * weights['predicted_avg_production_renewables'] +\n",
    "    data['predicted_GDP'] * weights['predicted_GDP'] +\n",
    "    data['predicted_Population'] * weights['predicted_Population']\n",
    ")\n",
    "\n",
    "# Rank the countries based on the score\n",
    "data = data.sort_values(by='Score', ascending=False)"
   ]
  },
  {
   "cell_type": "code",
   "execution_count": 3,
   "metadata": {},
   "outputs": [
    {
     "name": "stdout",
     "output_type": "stream",
     "text": [
      "   Country_Code     Score\n",
      "20           FR  0.596867\n",
      "25           ES  0.485195\n",
      "10           IT  0.407537\n",
      "5            GR  0.402075\n",
      "12           PT  0.390343\n"
     ]
    }
   ],
   "source": [
    "# Display the top countries\n",
    "print(data[['Country_Code', 'Score']].head())"
   ]
  },
  {
   "cell_type": "code",
   "execution_count": 4,
   "metadata": {},
   "outputs": [
    {
     "name": "stdout",
     "output_type": "stream",
     "text": [
      "   Country_Code     Score\n",
      "20           FR  0.596867\n",
      "25           ES  0.485195\n",
      "10           IT  0.407537\n",
      "5            GR  0.402075\n",
      "12           PT  0.390343\n",
      "13           DE  0.301518\n",
      "26           BG  0.284244\n",
      "27           RO  0.266003\n",
      "17           HR  0.261267\n",
      "22           HU  0.245956\n",
      "15           CH  0.229784\n",
      "9            GB  0.225208\n",
      "19           SI  0.214698\n",
      "21           AT  0.204842\n",
      "14           BE  0.201168\n",
      "0            SK  0.192716\n",
      "4            CZ  0.173208\n",
      "2            LU  0.167656\n",
      "18           SE  0.163648\n",
      "16           NL  0.154463\n",
      "11           IE  0.134265\n",
      "1            PL  0.133126\n",
      "6            DK  0.128839\n",
      "24           LT  0.088561\n",
      "23           NO  0.083741\n",
      "7            LV  0.075608\n",
      "8            EE  0.061460\n",
      "3            FI  0.037426\n"
     ]
    }
   ],
   "source": [
    "print(data[['Country_Code', 'Score']])"
   ]
  }
 ],
 "metadata": {
  "kernelspec": {
   "display_name": "Python 3",
   "language": "python",
   "name": "python3"
  },
  "language_info": {
   "codemirror_mode": {
    "name": "ipython",
    "version": 3
   },
   "file_extension": ".py",
   "mimetype": "text/x-python",
   "name": "python",
   "nbconvert_exporter": "python",
   "pygments_lexer": "ipython3",
   "version": "3.9.13"
  }
 },
 "nbformat": 4,
 "nbformat_minor": 2
}
