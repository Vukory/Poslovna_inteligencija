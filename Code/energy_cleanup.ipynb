{
 "cells": [
  {
   "cell_type": "code",
   "execution_count": 1,
   "metadata": {},
   "outputs": [],
   "source": [
    "import pandas as pd\n",
    "\n",
    "# Load the dataset\n",
    "df = pd.read_csv('energy.csv')\n",
    "# Country codes to full names mapping\n",
    "country_code_map = {\n",
    "    'AT': 'Austria', 'BE': 'Belgium', 'BG': 'Bulgaria', 'CH': 'Switzerland',\n",
    "    'CZ': 'Czech Republic', 'DE': 'Germany', 'DK': 'Denmark', 'EE': 'Estonia',\n",
    "    'ES': 'Spain', 'FI': 'Finland', 'FR': 'France', 'GB': 'United Kingdom',\n",
    "    'GR': 'Greece', 'HR': 'Croatia', 'HU': 'Hungary', 'IE': 'Ireland',\n",
    "    'IT': 'Italy', 'LT': 'Lithuania', 'LU': 'Luxembourg', 'LV': 'Latvia',\n",
    "    'NL': 'Netherlands', 'NO': 'Norway', 'PL': 'Poland', 'PT': 'Portugal',\n",
    "    'RO': 'Romania', 'SE': 'Sweden', 'SI': 'Slovenia', 'SK': 'Slovakia'\n",
    "}\n"
   ]
  },
  {
   "cell_type": "code",
   "execution_count": 2,
   "metadata": {},
   "outputs": [],
   "source": [
    "# Combine energy types\n",
    "df['Energy_type'] = df['Energy_type'].replace({\n",
    "    'nuclear': 'renewables',\n",
    "    'renewables_n_other': 'renewables',\n",
    "    'coal': 'non-renewables',\n",
    "    'natural_gas': 'non-renewables',\n",
    "    'petroleum_n_other_liquids': 'non-renewables'\n",
    "})\n",
    "\n",
    "# Add same energy types together for each country\n",
    "df = df.groupby(['Country', 'Year', 'Energy_type']).sum().reset_index()\n",
    "\n",
    "# Drop unnecessary columns\n",
    "df = df.drop(['Energy_intensity_per_capita', 'Energy_intensity_by_GDP'], axis=1)\n"
   ]
  },
  {
   "cell_type": "code",
   "execution_count": 3,
   "metadata": {},
   "outputs": [],
   "source": [
    "# Filter by countries\n",
    "df = df[df['Country'].isin(country_code_map.values())]\n",
    "\n",
    "# Save the cleaned dataset\n",
    "df.to_csv('energy_cleaned.csv', index=False)\n"
   ]
  }
 ],
 "metadata": {
  "kernelspec": {
   "display_name": "Python 3",
   "language": "python",
   "name": "python3"
  },
  "language_info": {
   "codemirror_mode": {
    "name": "ipython",
    "version": 3
   },
   "file_extension": ".py",
   "mimetype": "text/x-python",
   "name": "python",
   "nbconvert_exporter": "python",
   "pygments_lexer": "ipython3",
   "version": "3.9.13"
  }
 },
 "nbformat": 4,
 "nbformat_minor": 2
}
