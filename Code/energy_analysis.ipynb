{
 "cells": [
  {
   "cell_type": "code",
   "execution_count": 35,
   "metadata": {},
   "outputs": [],
   "source": [
    "import pandas as pd\n",
    "\n",
    "# Load the cleaned energy data\n",
    "energy_df = pd.read_csv('energy_cleaned.csv')\n",
    "\n",
    "# Get the last 10 years\n",
    "last_10_years = energy_df['Year'].max() - 9\n",
    "energy_last_10_years = energy_df[energy_df['Year'] >= last_10_years]\n"
   ]
  },
  {
   "cell_type": "code",
   "execution_count": 36,
   "metadata": {},
   "outputs": [],
   "source": [
    "# Calculate the 10-year average for all energy types (this includes renewables + non-renewables)\n",
    "avg_all_energy = energy_last_10_years.groupby('Country')['Energy_production'].mean().reset_index()\n",
    "avg_all_energy = avg_all_energy.rename(columns={'Energy_production': 'avg_production_all_energy'})\n",
    "\n",
    "# Calculate the 10-year average production for renewables\n",
    "avg_renewables = energy_last_10_years[energy_last_10_years['Energy_type'] == 'renewables']\\\n",
    "    .groupby('Country')['Energy_production'].mean().reset_index()\n",
    "avg_renewables = avg_renewables.rename(columns={'Energy_production': 'avg_production_renewables'})\n",
    "\n",
    "# Calculate the 10-year average production for non-renewables\n",
    "avg_non_renewables = energy_last_10_years[energy_last_10_years['Energy_type'] == 'non-renewables']\\\n",
    "    .groupby('Country')['Energy_production'].mean().reset_index()\n",
    "avg_non_renewables = avg_non_renewables.rename(columns={'Energy_production': 'avg_production_non_renewables'})\n",
    "\n",
    "# Calculate the 10-year average CO2 emissions\n",
    "avg_co2_emissions = energy_last_10_years.groupby('Country')['CO2_emission'].mean().reset_index()\n",
    "avg_co2_emissions = avg_co2_emissions.rename(columns={'CO2_emission': 'avg_CO2_emissions'})\n",
    "\n",
    "# Get the latest year data for GDP and Population\n",
    "latest_year = energy_df['Year'].max()\n",
    "latest_data = energy_df[energy_df['Year'] == latest_year].drop_duplicates(subset='Country')\n",
    "latest_gdp_pop = latest_data[['Country', 'GDP', 'Population']]"
   ]
  },
  {
   "cell_type": "code",
   "execution_count": 37,
   "metadata": {},
   "outputs": [],
   "source": [
    "# Merge all the data together\n",
    "merged_data = avg_all_energy\\\n",
    "    .merge(avg_renewables, on='Country', how='left')\\\n",
    "    .merge(avg_non_renewables, on='Country', how='left')\\\n",
    "    .merge(avg_co2_emissions, on='Country', how='left')\\\n",
    "    .merge(latest_gdp_pop, on='Country', how='left')\n",
    "\n",
    "# Round the necessary columns\n",
    "merged_data['avg_production_all_energy'] = merged_data['avg_production_all_energy'].round(3)\n",
    "merged_data['avg_production_renewables'] = merged_data['avg_production_renewables'].round(3)\n",
    "merged_data['avg_production_non_renewables'] = merged_data['avg_production_non_renewables'].round(3)\n",
    "merged_data['avg_CO2_emissions'] = merged_data['avg_CO2_emissions'].round(3)\n",
    "merged_data['GDP'] = merged_data['GDP'].round(2)\n",
    "merged_data['Population'] = merged_data['Population'].round(2)"
   ]
  },
  {
   "cell_type": "code",
   "execution_count": 38,
   "metadata": {},
   "outputs": [],
   "source": [
    "# Country codes to full names mapping\n",
    "country_code_map = {\n",
    "    'AT': 'Austria', 'BE': 'Belgium', 'BG': 'Bulgaria', 'CH': 'Switzerland',\n",
    "    'CZ': 'Czech Republic', 'DE': 'Germany', 'DK': 'Denmark', 'EE': 'Estonia',\n",
    "    'ES': 'Spain', 'FI': 'Finland', 'FR': 'France', 'GB': 'United Kingdom',\n",
    "    'GR': 'Greece', 'HR': 'Croatia', 'HU': 'Hungary', 'IE': 'Ireland',\n",
    "    'IT': 'Italy', 'LT': 'Lithuania', 'LU': 'Luxembourg', 'LV': 'Latvia',\n",
    "    'NL': 'Netherlands', 'NO': 'Norway', 'PL': 'Poland', 'PT': 'Portugal',\n",
    "    'RO': 'Romania', 'SE': 'Sweden', 'SI': 'Slovenia', 'SK': 'Slovakia'\n",
    "}\n",
    "\n",
    "# Reverse the mapping to get country names to codes\n",
    "country_name_to_code = {v: k for k, v in country_code_map.items()}\n",
    "\n",
    "# Map country names to codes\n",
    "merged_data['Country_Code'] = merged_data['Country'].map(country_name_to_code)\n",
    "\n",
    "# Drop the 'Country' column\n",
    "merged_data = merged_data.drop(columns=['Country'])\n"
   ]
  },
  {
   "cell_type": "code",
   "execution_count": 39,
   "metadata": {},
   "outputs": [],
   "source": [
    "# Load country_predictions.csv\n",
    "predictions_df = pd.read_csv('country_predictions.csv', index_col=0)\n",
    "\n",
    "# Reset index to have Country_Code as a column\n",
    "predictions_df = predictions_df.reset_index()\n",
    "predictions_df = predictions_df.rename(columns={'index': 'Country_Code'})\n",
    "\n",
    "# Merge the data on Country_Code\n",
    "final_df = predictions_df.merge(merged_data, on='Country_Code', how='left')\n",
    "\n",
    "# Save the final dataframe to country_energy.csv\n",
    "final_df.to_csv('country_energy.csv', index=False)\n"
   ]
  }
 ],
 "metadata": {
  "kernelspec": {
   "display_name": "Python 3",
   "language": "python",
   "name": "python3"
  },
  "language_info": {
   "codemirror_mode": {
    "name": "ipython",
    "version": 3
   },
   "file_extension": ".py",
   "mimetype": "text/x-python",
   "name": "python",
   "nbconvert_exporter": "python",
   "pygments_lexer": "ipython3",
   "version": "3.9.13"
  }
 },
 "nbformat": 4,
 "nbformat_minor": 2
}
